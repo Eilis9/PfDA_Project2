{
 "cells": [
  {
   "cell_type": "markdown",
   "metadata": {},
   "source": [
    "## References\n",
    "\n",
    "1. Luethi et al (2008): Nature\n",
    "2. Jouzel et al: https://www.ncei.noaa.gov/access/paleo-search/study/6080\n",
    "3. Mauna Loa Monthly average CO2 measurements: https://gml.noaa.gov/webdata/ccgg/trends/co2/co2_mm_mlo.txt\n",
    "4. Climate.gov: https://www.climate.gov/news-features/understanding-climate/climate-change-global-temperature (accessed 19th Dec 2023)\n",
    "5. The Keeling Curve: Carbon Dioxide Measurements at Mauna Loa https://www.acs.org/education/whatischemistry/landmarks/keeling-curve.html (accessed 19th Dec 2023)\n",
    "6. Global temperature anomaly: https://www.ncei.noaa.gov/access/monitoring/climate-at-a-glance/global/time-series/globe/land_ocean/ytd/12/1850-2022 (accessed 19th Dec 2023)\n",
    "7. Image of the drilling locations for ice-cores: https://www.euanmearns.com/wp-content/uploads/2014/11/antarctic_ice_core_stations.jpg (accessed 19th Dec)\n",
    "8. Petit et al (2005): Climate and atmospheric history of the past 420,000 years from the Vostok ice core, Antarctica\n",
    "9. Homogenization and analysis of an expanded long-term monthly rainfall network for the Island of Ireland (1850–2010) https://rmets.onlinelibrary.wiley.com/doi/epdf/10.1002/joc.4522\n",
    "10. Irish rainfall data (1711-2016): https://www.met.ie/climate/available-data/long-term-data-sets/\n",
    "11. Rainfall data paper: Homogenization and analysis of an expanded long-term monthly rainfall network for the Island of Ireland (1850–2010)\n",
    "12. Ice coring in Antarctica: https://en.wikipedia.org/wiki/European_Project_for_Ice_Coring_in_Antarctica\n",
    "13. Irish air temp: Mateus, C., Potito, A., Curley, M. 2020. Reconstruction of a long-term historical daily \n",
    "maximum and minimum air temperature network dataset for Ireland (1831-1968). Data: http://edepositireland.ie/handle/2262/92442\n",
    "14. \"The emergence of a climate change signal in long-term Irish meteorological observations\" Weather and Climate Extremes\n",
    "15. Global temperature data 1850-Recent https://berkeleyearth.org/data/ (accessed 20th Dec 2023)\n"
   ]
  }
 ],
 "metadata": {
  "language_info": {
   "name": "python"
  }
 },
 "nbformat": 4,
 "nbformat_minor": 2
}
