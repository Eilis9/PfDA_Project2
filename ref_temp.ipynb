{
 "cells": [
  {
   "cell_type": "markdown",
   "metadata": {},
   "source": [
    "## References\n",
    "\n",
    "1. Luethi et al (2008): Nature\n",
    "2. Jouzel et al: https://www.ncei.noaa.gov/access/paleo-search/study/6080\n",
    "3. Mauna Loa Monthly average CO2 measurements: https://gml.noaa.gov/webdata/ccgg/trends/co2/co2_mm_mlo.txt\n",
    "4. Climate.gov: https://www.climate.gov/news-features/understanding-climate/climate-change-global-temperature (accessed 19th Dec 2023)\n",
    "5. The Keeling Curve: Carbon Dioxide Measurements at Mauna Loa https://www.acs.org/education/whatischemistry/landmarks/keeling-curve.html (accessed 19th Dec 2023)\n",
    "6. Global temperature anomaly: https://www.ncei.noaa.gov/access/monitoring/climate-at-a-glance/global/time-series/globe/land_ocean/ytd/12/1850-2022 (accessed 19th Dec 2023)\n",
    "7. Image of the drilling locations for ice-cores: https://www.euanmearns.com/wp-content/uploads/2014/11/antarctic_ice_core_stations.jpg (accessed 19th Dec)\n",
    "8. Petit et al (2005): Climate and atmospheric history of the past 420,000 years from the Vostok ice core, Antarctica"
   ]
  }
 ],
 "metadata": {
  "language_info": {
   "name": "python"
  }
 },
 "nbformat": 4,
 "nbformat_minor": 2
}
