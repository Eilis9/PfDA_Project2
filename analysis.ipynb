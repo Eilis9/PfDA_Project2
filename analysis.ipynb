{
 "cells": [
  {
   "cell_type": "code",
   "execution_count": null,
   "metadata": {},
   "outputs": [],
   "source": []
  },
  {
   "cell_type": "markdown",
   "metadata": {},
   "source": [
    "\n",
    "\n"
   ]
  },
  {
   "cell_type": "code",
   "execution_count": 1,
   "metadata": {},
   "outputs": [],
   "source": [
    "# Import required packages\n",
    "import pandas as pd\n"
   ]
  },
  {
   "cell_type": "code",
   "execution_count": 31,
   "metadata": {},
   "outputs": [],
   "source": [
    "# Function definitions\n",
    "# assigns a season class to the data to allow for referencing of data without splitting dataframe\n"
   ]
  },
  {
   "cell_type": "code",
   "execution_count": null,
   "metadata": {},
   "outputs": [],
   "source": [
    "CO2_all_df = pd.read_excel('data/grl52461-sup-0003-supplementary.xls', sheet_name='all records')\n",
    "CO2_all_df.head(10)\n"
   ]
  },
  {
   "cell_type": "code",
   "execution_count": 4,
   "metadata": {},
   "outputs": [
    {
     "name": "stdout",
     "output_type": "stream",
     "text": [
      "   Composite CO2 record (0-800 kyr BP)  \\\n",
      "0                     -51-1800 yr BP:'   \n",
      "1                        1.8-2 kyr BP:   \n",
      "2                         2-11 kyr BP:   \n",
      "3                        11-22 kyr BP:   \n",
      "4                        22-40 kyr BP:   \n",
      "5                        40-60 kyr BP:   \n",
      "6                       60-115 kyr BP:   \n",
      "7                      105-155 kyr BP:   \n",
      "8                      155-393 kyr BP:   \n",
      "9                      393-611 kyr BP:   \n",
      "10                     612-800 kyr BP:   \n",
      "\n",
      "                                           Unnamed: 1 Unnamed: 2  \n",
      "0                      Law Dome (Rubino et al., 2013)        NaN  \n",
      "1            Law Dome (MacFarling Meure et al., 2006)        NaN  \n",
      "2                 Dome C (Monnin et al., 2001 + 2004)        NaN  \n",
      "3   WAIS (Marcott et al., 2014) minus 4 ppmv (see ...        NaN  \n",
      "4                       Siple Dome (Ahn et al., 2014)        NaN  \n",
      "5                     TALDICE (Bereiter et al., 2012)        NaN  \n",
      "6                        EDML (Bereiter et al., 2012)        NaN  \n",
      "7         Dome C Sublimation (Schneider et al., 2013)        NaN  \n",
      "8                         Vostok (Petit et al., 1999)        NaN  \n",
      "9                  Dome C (Siegenthaler et al., 2005)        NaN  \n",
      "10                     Dome C (Bereiter et al., 2014)        NaN  \n"
     ]
    }
   ],
   "source": [
    "CO2_comp_df = pd.read_excel('data/grl52461-sup-0003-supplementary.xls', sheet_name='CO2 Composite')\n",
    "# Save the header info\n",
    "CO2_comp_df_header = CO2_comp_df.iloc[:11]\n",
    "print(CO2_comp_df_header.head(15))\n",
    "# Drop the header and assign column names\n",
    "CO2_comp_df.drop(CO2_comp_df.index[:14], inplace=True)\n",
    "CO2_comp_df.columns=['Gasage (yr BP)', 'CO2 (ppmv)', 'sigma mean CO2 (ppmv)']\n",
    "\n",
    "# Assign the header info as new variable\n",
    "#sources = CO2_comp_df_header.iloc[1,11]\n",
    "#CO2_comp_df.head(10)"
   ]
  },
  {
   "cell_type": "code",
   "execution_count": 22,
   "metadata": {},
   "outputs": [],
   "source": [
    "CO2_comp_df.reset_index(drop=True, inplace=True)"
   ]
  },
  {
   "cell_type": "code",
   "execution_count": 23,
   "metadata": {},
   "outputs": [
    {
     "data": {
      "text/html": [
       "<div>\n",
       "<style scoped>\n",
       "    .dataframe tbody tr th:only-of-type {\n",
       "        vertical-align: middle;\n",
       "    }\n",
       "\n",
       "    .dataframe tbody tr th {\n",
       "        vertical-align: top;\n",
       "    }\n",
       "\n",
       "    .dataframe thead th {\n",
       "        text-align: right;\n",
       "    }\n",
       "</style>\n",
       "<table border=\"1\" class=\"dataframe\">\n",
       "  <thead>\n",
       "    <tr style=\"text-align: right;\">\n",
       "      <th></th>\n",
       "      <th>Gasage (yr BP)</th>\n",
       "      <th>CO2 (ppmv)</th>\n",
       "      <th>sigma mean CO2 (ppmv)</th>\n",
       "    </tr>\n",
       "  </thead>\n",
       "  <tbody>\n",
       "    <tr>\n",
       "      <th>0</th>\n",
       "      <td>-51.03</td>\n",
       "      <td>368.022488</td>\n",
       "      <td>0.060442</td>\n",
       "    </tr>\n",
       "    <tr>\n",
       "      <th>1</th>\n",
       "      <td>-48</td>\n",
       "      <td>361.780737</td>\n",
       "      <td>0.37</td>\n",
       "    </tr>\n",
       "    <tr>\n",
       "      <th>2</th>\n",
       "      <td>-46.279272</td>\n",
       "      <td>359.647793</td>\n",
       "      <td>0.098</td>\n",
       "    </tr>\n",
       "    <tr>\n",
       "      <th>3</th>\n",
       "      <td>-44.405642</td>\n",
       "      <td>357.10674</td>\n",
       "      <td>0.159923</td>\n",
       "    </tr>\n",
       "    <tr>\n",
       "      <th>4</th>\n",
       "      <td>-43.08</td>\n",
       "      <td>353.946685</td>\n",
       "      <td>0.043007</td>\n",
       "    </tr>\n",
       "    <tr>\n",
       "      <th>5</th>\n",
       "      <td>-42.313517</td>\n",
       "      <td>353.724236</td>\n",
       "      <td>0.221093</td>\n",
       "    </tr>\n",
       "    <tr>\n",
       "      <th>6</th>\n",
       "      <td>-41.134817</td>\n",
       "      <td>352.416308</td>\n",
       "      <td>0.102247</td>\n",
       "    </tr>\n",
       "    <tr>\n",
       "      <th>7</th>\n",
       "      <td>-39.9714</td>\n",
       "      <td>350.808652</td>\n",
       "      <td>0.16187</td>\n",
       "    </tr>\n",
       "    <tr>\n",
       "      <th>8</th>\n",
       "      <td>-39.407968</td>\n",
       "      <td>349.80027</td>\n",
       "      <td>0.135223</td>\n",
       "    </tr>\n",
       "    <tr>\n",
       "      <th>9</th>\n",
       "      <td>-38.966335</td>\n",
       "      <td>349.278415</td>\n",
       "      <td>0.126149</td>\n",
       "    </tr>\n",
       "  </tbody>\n",
       "</table>\n",
       "</div>"
      ],
      "text/plain": [
       "  Gasage (yr BP)  CO2 (ppmv) sigma mean CO2 (ppmv)\n",
       "0         -51.03  368.022488              0.060442\n",
       "1            -48  361.780737                  0.37\n",
       "2     -46.279272  359.647793                 0.098\n",
       "3     -44.405642   357.10674              0.159923\n",
       "4         -43.08  353.946685              0.043007\n",
       "5     -42.313517  353.724236              0.221093\n",
       "6     -41.134817  352.416308              0.102247\n",
       "7       -39.9714  350.808652               0.16187\n",
       "8     -39.407968   349.80027              0.135223\n",
       "9     -38.966335  349.278415              0.126149"
      ]
     },
     "execution_count": 23,
     "metadata": {},
     "output_type": "execute_result"
    }
   ],
   "source": [
    "CO2_comp_df.head(10)"
   ]
  },
  {
   "cell_type": "code",
   "execution_count": 47,
   "metadata": {},
   "outputs": [],
   "source": [
    "def assign_source(the_data, sources, idx_start):\n",
    "  for i, source in enumerate(sources):\n",
    "    print(source)\n",
    "    #source_loc = the_data.iloc[idx_start[i]:idx_start[i+1]-1]\n",
    "    print(idx_start[i])\n",
    "    #st_idx = idx_start[i]\n",
    "    end_idx = idx_start[i+1]-1\n",
    "    the_data.loc[idx_start[i]:idx_start[i+1]-1, 'source'] = source\n",
    "  return the_data"
   ]
  },
  {
   "cell_type": "code",
   "execution_count": 54,
   "metadata": {},
   "outputs": [
    {
     "name": "stdout",
     "output_type": "stream",
     "text": [
      "['Law Dome (Rubino et al., 2013)', 'Law Dome (MacFarling Meure et al., 2006)', 'Dome C (Monnin et al., 2001 + 2004)', 'WAIS (Marcott et al., 2014) minus 4 ppmv (see text)', 'Siple Dome (Ahn et al., 2014)', 'TALDICE (Bereiter et al., 2012)', 'EDML (Bereiter et al., 2012)', 'Dome C Sublimation (Schneider et al., 2013)', 'Vostok (Petit et al., 1999)', 'Dome C (Siegenthaler et al., 2005)', 'Dome C (Bereiter et al., 2014)']\n",
      "Law Dome (Rubino et al., 2013)\n",
      "0\n",
      "Law Dome (MacFarling Meure et al., 2006)\n",
      "248\n",
      "Dome C (Monnin et al., 2001 + 2004)\n",
      "253\n",
      "WAIS (Marcott et al., 2014) minus 4 ppmv (see text)\n",
      "348\n",
      "Siple Dome (Ahn et al., 2014)\n",
      "638\n",
      "TALDICE (Bereiter et al., 2012)\n",
      "833\n",
      "EDML (Bereiter et al., 2012)\n",
      "911\n",
      "Dome C Sublimation (Schneider et al., 2013)\n",
      "1005\n",
      "Vostok (Petit et al., 1999)\n",
      "1077\n",
      "Dome C (Siegenthaler et al., 2005)\n",
      "1301\n",
      "Dome C (Bereiter et al., 2014)\n",
      "1591\n",
      "  Gasage (yr BP)  CO2 (ppmv) sigma mean CO2 (ppmv)  \\\n",
      "0         -51.03  368.022488              0.060442   \n",
      "1            -48  361.780737                  0.37   \n",
      "2     -46.279272  359.647793                 0.098   \n",
      "3     -44.405642   357.10674              0.159923   \n",
      "4         -43.08  353.946685              0.043007   \n",
      "\n",
      "                           source  \n",
      "0  Law Dome (Rubino et al., 2013)  \n",
      "1  Law Dome (Rubino et al., 2013)  \n",
      "2  Law Dome (Rubino et al., 2013)  \n",
      "3  Law Dome (Rubino et al., 2013)  \n",
      "4  Law Dome (Rubino et al., 2013)  \n"
     ]
    }
   ],
   "source": [
    "sources = CO2_comp_df_header.iloc[:11, 1]\n",
    "sources = sources.values.tolist()\n",
    "# Define the index start from the excel where the data is colour coded\n",
    "idx_start = [0, 248, 253, 348, 638, 833, 911, 1005, 1077, 1301, 1591, 1917]\n",
    "# add source column\n",
    "CO2_comp_df['source'] = ''\n",
    "CO2_comp_df = assign_source(CO2_comp_df, sources, idx_start)\n",
    "\n",
    "CO2_comp_df.to_csv(\"test/co2_comp.csv\")"
   ]
  },
  {
   "cell_type": "code",
   "execution_count": null,
   "metadata": {},
   "outputs": [],
   "source": []
  }
 ],
 "metadata": {
  "kernelspec": {
   "display_name": "base",
   "language": "python",
   "name": "python3"
  },
  "language_info": {
   "codemirror_mode": {
    "name": "ipython",
    "version": 3
   },
   "file_extension": ".py",
   "mimetype": "text/x-python",
   "name": "python",
   "nbconvert_exporter": "python",
   "pygments_lexer": "ipython3",
   "version": "3.10.9"
  }
 },
 "nbformat": 4,
 "nbformat_minor": 2
}
